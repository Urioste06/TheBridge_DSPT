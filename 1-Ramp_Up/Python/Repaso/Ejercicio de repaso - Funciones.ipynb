{
 "cells": [
  {
   "attachments": {},
   "cell_type": "markdown",
   "metadata": {},
   "source": [
    "### Ejercicio 1 \n",
    "Desarrolla una función que reciba dos palabras cualesquiera y devuelva el número de letras que tienen en común."
   ]
  },
  {
   "cell_type": "code",
   "execution_count": 12,
   "metadata": {},
   "outputs": [],
   "source": [
    "def reducirString(texto):\n",
    "    textoReducido = \"\"\n",
    "    for letra in texto:\n",
    "        if letra not in textoReducido:\n",
    "            textoReducido += letra\n",
    "\n",
    "    return textoReducido\n",
    "\n",
    "def stringc(s1, s2):\n",
    "    count=0\n",
    "    s1 = reducirString(s1)\n",
    "    s3 = reducirString(s2)\n",
    "    for s in s1:\n",
    "        for t in s2:\n",
    "            if s==t:\n",
    "                count+=1\n",
    "\n",
    "    return count\n",
    "\n"
   ]
  },
  {
   "cell_type": "code",
   "execution_count": 15,
   "metadata": {},
   "outputs": [
    {
     "data": {
      "text/plain": [
       "2"
      ]
     },
     "execution_count": 15,
     "metadata": {},
     "output_type": "execute_result"
    }
   ],
   "source": [
    "stringc('hola', 'ompa')\n"
   ]
  },
  {
   "cell_type": "code",
   "execution_count": 18,
   "metadata": {},
   "outputs": [],
   "source": [
    "def letras_en_comun(palabra1,palabra2):\n",
    "    letras_en_comun=0\n",
    "    for letra in palabra1:\n",
    "        if letra in palabra2:\n",
    "            letras_en_comun =letras_en_comun+1\n",
    "    return letras_en_comun"
   ]
  },
  {
   "cell_type": "code",
   "execution_count": 20,
   "metadata": {},
   "outputs": [
    {
     "data": {
      "text/plain": [
       "6"
      ]
     },
     "execution_count": 20,
     "metadata": {},
     "output_type": "execute_result"
    }
   ],
   "source": [
    "letras_en_comun('hola abcd','mola b')"
   ]
  },
  {
   "cell_type": "code",
   "execution_count": 21,
   "metadata": {},
   "outputs": [],
   "source": [
    "def ejercicio_1():\n",
    "    palabra_1 = input('Primera palabra')\n",
    "    palabra_2 = input('Segunda palabra')\n",
    "\n",
    "    letras_en_comun = 0\n",
    "    for letra in set(palabra_1.lower()):\n",
    "\n",
    "        if letra in palabra_2.lower():\n",
    "            letras_en_comun = letras_en_comun +1\n",
    "    \n",
    "    return letras_en_comun"
   ]
  },
  {
   "cell_type": "code",
   "execution_count": 22,
   "metadata": {},
   "outputs": [
    {
     "data": {
      "text/plain": [
       "2"
      ]
     },
     "execution_count": 22,
     "metadata": {},
     "output_type": "execute_result"
    }
   ],
   "source": [
    "ejercicio_1()"
   ]
  },
  {
   "attachments": {},
   "cell_type": "markdown",
   "metadata": {},
   "source": [
    "### Ejercicio 2\n",
    "Un número primo es aquel número que solo es divisible por 1 y por si mismo (2,3,5,7,11,13,...). Define una función que pida al usuario un número natural mayor que 2 y devuelva si se trata de un número primo o no."
   ]
  },
  {
   "cell_type": "code",
   "execution_count": null,
   "metadata": {},
   "outputs": [],
   "source": []
  },
  {
   "attachments": {},
   "cell_type": "markdown",
   "metadata": {},
   "source": [
    "### Ejercicio 3\n",
    "Desarrollar una función en la que se vaya pidiendo números reales al usuario (uno por uno) y una vez el usuario ingrese la palabra ***terminar***, la función devuelva el valor máximo y mínimo de los números ingresados por el usuario.\n"
   ]
  },
  {
   "cell_type": "code",
   "execution_count": null,
   "metadata": {},
   "outputs": [],
   "source": []
  },
  {
   "attachments": {},
   "cell_type": "markdown",
   "metadata": {},
   "source": [
    "### Ejercicio 4\n",
    "Desarrollar una función que reciba como entrada una lista de palabras y devuelva la longitud de la palabra más corta y la palabra más larga."
   ]
  },
  {
   "cell_type": "code",
   "execution_count": null,
   "metadata": {},
   "outputs": [],
   "source": []
  },
  {
   "attachments": {},
   "cell_type": "markdown",
   "metadata": {},
   "source": [
    "### Ejercicio 5 \n",
    "Definir una función que reciba una cadena de caracteres y devuelva un diccionario cuyas claves sean las cinco vocales y sus valores sean sus frecuencias dentro de la cadena respectivamente."
   ]
  },
  {
   "cell_type": "code",
   "execution_count": null,
   "metadata": {},
   "outputs": [],
   "source": []
  },
  {
   "attachments": {},
   "cell_type": "markdown",
   "metadata": {},
   "source": [
    "### Ejercicio 6\n",
    "Definir un programa que pida al usuario dos palabras y devuelva ***True*** si las palabras riman y ***False*** si las palabras no riman."
   ]
  },
  {
   "cell_type": "code",
   "execution_count": null,
   "metadata": {},
   "outputs": [],
   "source": []
  },
  {
   "attachments": {},
   "cell_type": "markdown",
   "metadata": {},
   "source": [
    "### Ejercicio 7\n",
    "Desarrollar una función que reciba una lista de números y devuelva una lista de listas (lista = [$\\text{sublista}_{1}$,$\\text{sublista}_{2}$,$\\text{sublista}_{3}$]), en la que cada sublista contendrá determinados números.\n",
    "\n",
    "* sublista1: los números que tengan de 1-6 cifras.\n",
    "* sublista2: los números que tengan de 7-12 cifras.\n",
    "* sublista3: los números que tengan m´as de 12 cifras.\n",
    "\n",
    "**Nota**: cuidado cuando tengamos un número negativo o con decimales.\n"
   ]
  },
  {
   "cell_type": "code",
   "execution_count": null,
   "metadata": {},
   "outputs": [],
   "source": []
  }
 ],
 "metadata": {
  "kernelspec": {
   "display_name": "Python 3",
   "language": "python",
   "name": "python3"
  },
  "language_info": {
   "codemirror_mode": {
    "name": "ipython",
    "version": 3
   },
   "file_extension": ".py",
   "mimetype": "text/x-python",
   "name": "python",
   "nbconvert_exporter": "python",
   "pygments_lexer": "ipython3",
   "version": "3.12.0"
  },
  "vscode": {
   "interpreter": {
    "hash": "abc9fc88bc0e5c548c5da0f33af674c000293e7a58ee42428ace4cfa52bc0e99"
   }
  }
 },
 "nbformat": 4,
 "nbformat_minor": 2
}
